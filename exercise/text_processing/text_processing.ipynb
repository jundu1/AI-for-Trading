{
 "cells": [
  {
   "cell_type": "markdown",
   "metadata": {},
   "source": [
    "# Text Processing\n",
    "\n",
    "## Capturing Text Data\n",
    "\n",
    "### Plain Text"
   ]
  },
  {
   "cell_type": "code",
   "execution_count": 1,
   "metadata": {},
   "outputs": [
    {
     "name": "stdout",
     "output_type": "stream",
     "text": [
      "Hieroglyphic writing dates from c. 3000 BC, and is composed of hundreds of symbols. A hieroglyph can represent a word, a sound, or a silent determinative; and the same symbol can serve different purposes in different contexts. Hieroglyphs were a formal script, used on stone monuments and in tombs, that could be as detailed as individual works of art.\n",
      "\n"
     ]
    }
   ],
   "source": [
    "import os\n",
    "\n",
    "# Read in a plain text file\n",
    "with open(os.path.join(\"data\", \"hieroglyph.txt\"), \"r\") as f:\n",
    "    text = f.read()\n",
    "    print(text)"
   ]
  },
  {
   "cell_type": "markdown",
   "metadata": {},
   "source": [
    "### Tabular Data"
   ]
  },
  {
   "cell_type": "code",
   "execution_count": 2,
   "metadata": {
    "scrolled": true
   },
   "outputs": [
    {
     "data": {
      "text/html": [
       "<div>\n",
       "<style scoped>\n",
       "    .dataframe tbody tr th:only-of-type {\n",
       "        vertical-align: middle;\n",
       "    }\n",
       "\n",
       "    .dataframe tbody tr th {\n",
       "        vertical-align: top;\n",
       "    }\n",
       "\n",
       "    .dataframe thead th {\n",
       "        text-align: right;\n",
       "    }\n",
       "</style>\n",
       "<table border=\"1\" class=\"dataframe\">\n",
       "  <thead>\n",
       "    <tr style=\"text-align: right;\">\n",
       "      <th></th>\n",
       "      <th>publisher</th>\n",
       "      <th>title</th>\n",
       "    </tr>\n",
       "  </thead>\n",
       "  <tbody>\n",
       "    <tr>\n",
       "      <th>0</th>\n",
       "      <td>Livemint</td>\n",
       "      <td>fed's charles plosser sees high bar for change...</td>\n",
       "    </tr>\n",
       "    <tr>\n",
       "      <th>1</th>\n",
       "      <td>IFA Magazine</td>\n",
       "      <td>us open: stocks fall after fed official hints ...</td>\n",
       "    </tr>\n",
       "    <tr>\n",
       "      <th>2</th>\n",
       "      <td>IFA Magazine</td>\n",
       "      <td>fed risks falling 'behind the curve', charles ...</td>\n",
       "    </tr>\n",
       "    <tr>\n",
       "      <th>3</th>\n",
       "      <td>Moneynews</td>\n",
       "      <td>fed's plosser: nasty weather has curbed job gr...</td>\n",
       "    </tr>\n",
       "    <tr>\n",
       "      <th>4</th>\n",
       "      <td>NASDAQ</td>\n",
       "      <td>plosser: fed may have to accelerate tapering pace</td>\n",
       "    </tr>\n",
       "  </tbody>\n",
       "</table>\n",
       "</div>"
      ],
      "text/plain": [
       "      publisher                                              title\n",
       "0      Livemint  fed's charles plosser sees high bar for change...\n",
       "1  IFA Magazine  us open: stocks fall after fed official hints ...\n",
       "2  IFA Magazine  fed risks falling 'behind the curve', charles ...\n",
       "3     Moneynews  fed's plosser: nasty weather has curbed job gr...\n",
       "4        NASDAQ  plosser: fed may have to accelerate tapering pace"
      ]
     },
     "execution_count": 2,
     "metadata": {},
     "output_type": "execute_result"
    }
   ],
   "source": [
    "import pandas as pd\n",
    "\n",
    "# Extract text column from a dataframe\n",
    "df = pd.read_csv(os.path.join(\"data\", \"news.csv\"))\n",
    "df.head()[['publisher', 'title']]\n",
    "\n",
    "# Convert text column to lowercase\n",
    "df['title'] = df['title'].str.lower()\n",
    "df.head()[['publisher', 'title']]"
   ]
  },
  {
   "cell_type": "markdown",
   "metadata": {},
   "source": [
    "### Online Resource"
   ]
  },
  {
   "cell_type": "code",
   "execution_count": 3,
   "metadata": {
    "scrolled": true
   },
   "outputs": [
    {
     "name": "stdout",
     "output_type": "stream",
     "text": [
      "{\n",
      "    \"success\": {\n",
      "        \"total\": 1\n",
      "    },\n",
      "    \"contents\": {\n",
      "        \"quotes\": [\n",
      "            {\n",
      "                \"quote\": \"We are each gifted in a unique and important way. It is our privilege and our adventure to discover our own special light\",\n",
      "                \"length\": \"121\",\n",
      "                \"author\": \"Mary Dunbar\",\n",
      "                \"tags\": [\n",
      "                    \"discover\",\n",
      "                    \"inspire\",\n",
      "                    \"self\"\n",
      "                ],\n",
      "                \"category\": \"inspire\",\n",
      "                \"language\": \"en\",\n",
      "                \"date\": \"2020-05-29\",\n",
      "                \"permalink\": \"https://theysaidso.com/quote/mary-dunbar-we-are-each-gifted-in-a-unique-and-important-way-it-is-our-privilege\",\n",
      "                \"id\": \"NMrdeKJZAouC1i06aoMm3weF\",\n",
      "                \"background\": \"https://theysaidso.com/img/qod/qod-inspire.jpg\",\n",
      "                \"title\": \"Inspiring Quote of the day\"\n",
      "            }\n",
      "        ]\n",
      "    },\n",
      "    \"baseurl\": \"https://theysaidso.com\",\n",
      "    \"copyright\": {\n",
      "        \"year\": 2022,\n",
      "        \"url\": \"https://theysaidso.com\"\n",
      "    }\n",
      "}\n",
      "We are each gifted in a unique and important way. It is our privilege and our adventure to discover our own special light \n",
      "-- Mary Dunbar\n"
     ]
    }
   ],
   "source": [
    "import requests\n",
    "import json\n",
    "\n",
    "# Fetch data from a REST API\n",
    "r = requests.get(\n",
    "    \"https://quotes.rest/qod.json\")\n",
    "res = r.json()\n",
    "print(json.dumps(res, indent=4))\n",
    "\n",
    "# Extract relevant object and field\n",
    "q = res[\"contents\"][\"quotes\"][0]\n",
    "print(q[\"quote\"], \"\\n--\", q[\"author\"])"
   ]
  },
  {
   "cell_type": "markdown",
   "metadata": {},
   "source": [
    "## Cleaning"
   ]
  },
  {
   "cell_type": "code",
   "execution_count": 4,
   "metadata": {
    "scrolled": true
   },
   "outputs": [
    {
     "name": "stdout",
     "output_type": "stream",
     "text": [
      "<html lang=\"en\" op=\"news\"><head><meta name=\"referrer\" content=\"origin\"><meta name=\"viewport\" content=\"width=device-width, initial-scale=1.0\"><link rel=\"stylesheet\" type=\"text/css\" href=\"news.css?6osDtdDRJS2fPerXRqDm\">\n",
      "        <link rel=\"shortcut icon\" href=\"favicon.ico\">\n",
      "          <link rel=\"alternate\" type=\"application/rss+xml\" title=\"RSS\" href=\"rss\">\n",
      "        <title>Hacker News</title></head><body><center><table id=\"hnmain\" border=\"0\" cellpadding=\"0\" cellspacing=\"0\" width=\"85%\" bgcolor=\"#f6f6ef\">\n",
      "        <tr><td bgcolor=\"#ff6600\"><table border=\"0\" cellpadding=\"0\" cellspacing=\"0\" width=\"100%\" style=\"padding:2px\"><tr><td style=\"width:18px;padding-right:4px\"><a href=\"https://news.ycombinator.com\"><img src=\"y18.gif\" width=\"18\" height=\"18\" style=\"border:1px white solid;\"></a></td>\n",
      "                  <td style=\"line-height:12pt; height:10px;\"><span class=\"pagetop\"><b class=\"hnname\"><a href=\"news\">Hacker News</a></b>\n",
      "              <a href=\"newest\">new</a> | <a href=\"front\">past</a> | <a href=\"newcomments\">comments</a> | <a href=\"ask\">ask</a> | <a href=\"show\">show</a> | <a href=\"jobs\">jobs</a> | <a href=\"submit\">submit</a>            </span></td><td style=\"text-align:right;padding-right:4px;\"><span class=\"pagetop\">\n",
      "                              <a href=\"login?goto=news\">login</a>\n",
      "                          </span></td>\n",
      "              </tr></table></td></tr>\n",
      "<tr id=\"pagespace\" title=\"\" style=\"height:10px\"></tr><tr><td><table border=\"0\" cellpadding=\"0\" cellspacing=\"0\" class=\"itemlist\">\n",
      "              <tr class='athing' id='23345379'>\n",
      "      <td align=\"right\" valign=\"top\" class=\"title\"><span class=\"rank\">1.</span></td>      <td valign=\"top\" class=\"votelinks\"><center><a id='up_23345379' href='vote?id=23345379&amp;how=up&amp;goto=news'><div class='votearrow' title='upvote'></div></a></center></td><td class=\"title\"><a href=\"https://arxiv.org/abs/2005.14165\" class=\"storylink\">“GPT-3: Language Models Are Few-Shot Learners”, Brown et al. 2020 (OpenAI)</a><span class=\"sitebit comhead\"> (<a href=\"from?site=arxiv.org\"><span class=\"sitestr\">arxiv.org</span></a>)</span></td></tr><tr><td colspan=\"2\"></td><td class=\"subtext\">\n",
      "        <span class=\"score\" id=\"score_23345379\">84 points</span> by <a href=\"user?id=gwern\" class=\"hnuser\">gwern</a> <span class=\"age\"><a href=\"item?id=23345379\">1 hour ago</a></span> <span id=\"unv_23345379\"></span> | <a href=\"hide?id=23345379&amp;goto=news\">hide</a> | <a href=\"item?id=23345379\">24&nbsp;comments</a>              </td></tr>\n",
      "      <tr class=\"spacer\" style=\"height:5px\"></tr>\n",
      "                <tr class='athing' id='23345173'>\n",
      "      <td align=\"right\" valign=\"top\" class=\"title\"><span class=\"rank\">2.</span></td>      <td valign=\"top\" class=\"votelinks\"><center><a id='up_23345173' href='vote?id=23345173&amp;how=up&amp;goto=news'><div class='votearrow' title='upvote'></div></a></center></td><td class=\"title\"><a href=\"https://en.wikipedia.org/wiki/1989_California_medfly_attack\" class=\"storylink\">1989 California Medfly Attack</a><span class=\"sitebit comhead\"> (<a href=\"from?site=wikipedia.org\"><span class=\"sitestr\">wikipedia.org</span></a>)</span></td></tr><tr><td colspan=\"2\"></td><td class=\"subtext\">\n",
      "        <span class=\"score\" id=\"score_23345173\">46 points</span> by <a href=\"user?id=eindiran\" class=\"hnuser\">eindiran</a> <span class=\"age\"><a href=\"item?id=23345173\">2 hours ago</a></span> <span id=\"unv_23345173\"></span> | <a href=\"hide?id=23345173&amp;goto=news\">hide</a> | <a href=\"item?id=23345173\">8&nbsp;comments</a>              </td></tr>\n",
      "      <tr class=\"spacer\" style=\"height:5px\"></tr>\n",
      "                <tr class='athing' id='23337091'>\n",
      "      <td align=\"right\" valign=\"top\" class=\"title\"><span class=\"rank\">3.</span></td>      <td valign=\"top\" class=\"votelinks\"><center><a id='up_23337091' href='vote?id=23337091&amp;how=up&amp;goto=news'><div class='votearrow' title='upvote'></div></a></center></td><td class=\"title\"><a href=\"https://audiomass.co/\" class=\"storylink\">AudioMass – free, open source, web-based Audio and Waveform editor</a><span class=\"sitebit comhead\"> (<a href=\"from?site=audiomass.co\"><span class=\"sitestr\">audiomass.co</span></a>)</span></td></tr><tr><td colspan=\"2\"></td><td class=\"subtext\">\n",
      "        <span class=\"score\" id=\"score_23337091\">815 points</span> by <a href=\"user?id=zaiste\" class=\"hnuser\">zaiste</a> <span class=\"age\"><a href=\"item?id=23337091\">13 hours ago</a></span> <span id=\"unv_23337091\"></span> | <a href=\"hide?id=23337091&amp;goto=news\">hide</a> | <a href=\"item?id=23337091\">145&nbsp;comments</a>              </td></tr>\n",
      "      <tr class=\"spacer\" style=\"height:5px\"></tr>\n",
      "                <tr class='athing' id='23339244'>\n",
      "      <td align=\"right\" valign=\"top\" class=\"title\"><span class=\"rank\">4.</span></td>      <td valign=\"top\" class=\"votelinks\"><center><a id='up_23339244' href='vote?id=23339244&amp;how=up&amp;goto=news'><div class='votearrow' title='upvote'></div></a></center></td><td class=\"title\"><a href=\"https://roughnotation.com/\" class=\"storylink\">Show HN: RoughNotation – create and animate hand-drawn annotations on a web page</a><span class=\"sitebit comhead\"> (<a href=\"from?site=roughnotation.com\"><span class=\"sitestr\">roughnotation.com</span></a>)</span></td></tr><tr><td colspan=\"2\"></td><td class=\"subtext\">\n",
      "        <span class=\"score\" id=\"score_23339244\">452 points</span> by <a href=\"user?id=shihn\" class=\"hnuser\">shihn</a> <span class=\"age\"><a href=\"item?id=23339244\">10 hours ago</a></span> <span id=\"unv_23339244\"></span> | <a href=\"hide?id=23339244&amp;goto=news\">hide</a> | <a href=\"item?id=23339244\">61&nbsp;comments</a>              </td></tr>\n",
      "      <tr class=\"spacer\" style=\"height:5px\"></tr>\n",
      "                <tr class='athing' id='23345135'>\n",
      "      <td align=\"right\" valign=\"top\" class=\"title\"><span class=\"rank\">5.</span></td>      <td valign=\"top\" class=\"votelinks\"><center><a id='up_23345135' href='vote?id=23345135&amp;how=up&amp;goto=news'><div class='votearrow' title='upvote'></div></a></center></td><td class=\"title\"><a href=\"https://wiki.openssl.org/index.php/OpenSSL_3.0\" class=\"storylink\">OpenSSL 3.0</a><span class=\"sitebit comhead\"> (<a href=\"from?site=openssl.org\"><span class=\"sitestr\">openssl.org</span></a>)</span></td></tr><tr><td colspan=\"2\"></td><td class=\"subtext\">\n",
      "        <span class=\"score\" id=\"score_23345135\">30 points</span> by <a href=\"user?id=ddb\" class=\"hnuser\">ddb</a> <span class=\"age\"><a href=\"item?id=23345135\">2 hours ago</a></span> <span id=\"unv_23345135\"></span> | <a href=\"hide?id=23345135&amp;goto=news\">hide</a> | <a href=\"item?id=23345135\">3&nbsp;comments</a>              </td></tr>\n",
      "      <tr class=\"spacer\" style=\"height:5px\"></tr>\n",
      "                <tr class='athing' id='23341179'>\n",
      "      <td align=\"right\" valign=\"top\" class=\"title\"><span class=\"rank\">6.</span></td>      <td valign=\"top\" class=\"votelinks\"><center><a id='up_23341179' href='vote?id=23341179&amp;how=up&amp;goto=news'><div class='votearrow' title='upvote'></div></a></center></td><td class=\"title\"><a href=\"https://blog.samaltman.com/idea-generation\" class=\"storylink\">Idea Generation</a><span class=\"sitebit comhead\"> (<a href=\"from?site=samaltman.com\"><span class=\"sitestr\">samaltman.com</span></a>)</span></td></tr><tr><td colspan=\"2\"></td><td class=\"subtext\">\n",
      "        <span class=\"score\" id=\"score_23341179\">245 points</span> by <a href=\"user?id=awaxman11\" class=\"hnuser\">awaxman11</a> <span class=\"age\"><a href=\"item?id=23341179\">7 hours ago</a></span> <span id=\"unv_23341179\"></span> | <a href=\"hide?id=23341179&amp;goto=news\">hide</a> | <a href=\"item?id=23341179\">80&nbsp;comments</a>              </td></tr>\n",
      "      <tr class=\"spacer\" style=\"height:5px\"></tr>\n",
      "                <tr class='athing' id='23339830'>\n",
      "      <td align=\"right\" valign=\"top\" class=\"title\"><span class=\"rank\">7.</span></td>      <td valign=\"top\" class=\"votelinks\"><center><a id='up_23339830' href='vote?id=23339830&amp;how=up&amp;goto=news'><div class='votearrow' title='upvote'></div></a></center></td><td class=\"title\"><a href=\"https://untools.co\" class=\"storylink\">Tools for Better Thinking</a><span class=\"sitebit comhead\"> (<a href=\"from?site=untools.co\"><span class=\"sitestr\">untools.co</span></a>)</span></td></tr><tr><td colspan=\"2\"></td><td class=\"subtext\">\n",
      "        <span class=\"score\" id=\"score_23339830\">408 points</span> by <a href=\"user?id=mmoez\" class=\"hnuser\">mmoez</a> <span class=\"age\"><a href=\"item?id=23339830\">9 hours ago</a></span> <span id=\"unv_23339830\"></span> | <a href=\"hide?id=23339830&amp;goto=news\">hide</a> | <a href=\"item?id=23339830\">57&nbsp;comments</a>              </td></tr>\n",
      "      <tr class=\"spacer\" style=\"height:5px\"></tr>\n",
      "                <tr class='athing' id='23345449'>\n",
      "      <td align=\"right\" valign=\"top\" class=\"title\"><span class=\"rank\">8.</span></td>      <td valign=\"top\" class=\"votelinks\"><center><a id='up_23345449' href='vote?id=23345449&amp;how=up&amp;goto=news'><div class='votearrow' title='upvote'></div></a></center></td><td class=\"title\"><a href=\"https://github.com/openai/gpt-3\" class=\"storylink\">GPT-3: Language Models Are Few-Shot Learners</a><span class=\"sitebit comhead\"> (<a href=\"from?site=github.com\"><span class=\"sitestr\">github.com</span></a>)</span></td></tr><tr><td colspan=\"2\"></td><td class=\"subtext\">\n",
      "        <span class=\"score\" id=\"score_23345449\">54 points</span> by <a href=\"user?id=baylearn\" class=\"hnuser\">baylearn</a> <span class=\"age\"><a href=\"item?id=23345449\">1 hour ago</a></span> <span id=\"unv_23345449\"></span> | <a href=\"hide?id=23345449&amp;goto=news\">hide</a> | <a href=\"item?id=23345449\">6&nbsp;comments</a>              </td></tr>\n",
      "      <tr class=\"spacer\" style=\"height:5px\"></tr>\n",
      "                <tr class='athing' id='23334339'>\n",
      "      <td align=\"right\" valign=\"top\" class=\"title\"><span class=\"rank\">9.</span></td>      <td valign=\"top\" class=\"votelinks\"><center><a id='up_23334339' href='vote?id=23334339&amp;how=up&amp;goto=news'><div class='votearrow' title='upvote'></div></a></center></td><td class=\"title\"><a href=\"https://designyoutrust.com/2018/01/vintage-beauty-soviet-control-rooms/\" class=\"storylink\">The Vintage Beauty of Soviet Control Rooms (2018)</a><span class=\"sitebit comhead\"> (<a href=\"from?site=designyoutrust.com\"><span class=\"sitestr\">designyoutrust.com</span></a>)</span></td></tr><tr><td colspan=\"2\"></td><td class=\"subtext\">\n",
      "        <span class=\"score\" id=\"score_23334339\">522 points</span> by <a href=\"user?id=ricardomcgowan\" class=\"hnuser\">ricardomcgowan</a> <span class=\"age\"><a href=\"item?id=23334339\">13 hours ago</a></span> <span id=\"unv_23334339\"></span> | <a href=\"hide?id=23334339&amp;goto=news\">hide</a> | <a href=\"item?id=23334339\">215&nbsp;comments</a>              </td></tr>\n",
      "      <tr class=\"spacer\" style=\"height:5px\"></tr>\n",
      "                <tr class='athing' id='23343466'>\n",
      "      <td align=\"right\" valign=\"top\" class=\"title\"><span class=\"rank\">10.</span></td>      <td valign=\"top\" class=\"votelinks\"><center><a id='up_23343466' href='vote?id=23343466&amp;how=up&amp;goto=news'><div class='votearrow' title='upvote'></div></a></center></td><td class=\"title\"><a href=\"https://www.worldspotify.com/\" class=\"storylink\">Most-streamed track of the day by country</a><span class=\"sitebit comhead\"> (<a href=\"from?site=worldspotify.com\"><span class=\"sitestr\">worldspotify.com</span></a>)</span></td></tr><tr><td colspan=\"2\"></td><td class=\"subtext\">\n",
      "        <span class=\"score\" id=\"score_23343466\">65 points</span> by <a href=\"user?id=sebastien-lbn\" class=\"hnuser\">sebastien-lbn</a> <span class=\"age\"><a href=\"item?id=23343466\">4 hours ago</a></span> <span id=\"unv_23343466\"></span> | <a href=\"hide?id=23343466&amp;goto=news\">hide</a> | <a href=\"item?id=23343466\">63&nbsp;comments</a>              </td></tr>\n",
      "      <tr class=\"spacer\" style=\"height:5px\"></tr>\n",
      "                <tr class='athing' id='23336267'>\n",
      "      <td align=\"right\" valign=\"top\" class=\"title\"><span class=\"rank\">11.</span></td>      <td valign=\"top\" class=\"votelinks\"><center><a id='up_23336267' href='vote?id=23336267&amp;how=up&amp;goto=news'><div class='votearrow' title='upvote'></div></a></center></td><td class=\"title\"><a href=\"https://www.matthewball.vc/all/epicgamesprimermaster\" class=\"storylink\">The Epic Games Primer</a><span class=\"sitebit comhead\"> (<a href=\"from?site=matthewball.vc\"><span class=\"sitestr\">matthewball.vc</span></a>)</span></td></tr><tr><td colspan=\"2\"></td><td class=\"subtext\">\n",
      "        <span class=\"score\" id=\"score_23336267\">48 points</span> by <a href=\"user?id=homarp\" class=\"hnuser\">homarp</a> <span class=\"age\"><a href=\"item?id=23336267\">3 hours ago</a></span> <span id=\"unv_23336267\"></span> | <a href=\"hide?id=23336267&amp;goto=news\">hide</a> | <a href=\"item?id=23336267\">8&nbsp;comments</a>              </td></tr>\n",
      "      <tr class=\"spacer\" style=\"height:5px\"></tr>\n",
      "                <tr class='athing' id='23330099'>\n",
      "      <td align=\"right\" valign=\"top\" class=\"title\"><span class=\"rank\">12.</span></td>      <td valign=\"top\" class=\"votelinks\"><center><a id='up_23330099' href='vote?id=23330099&amp;how=up&amp;goto=news'><div class='votearrow' title='upvote'></div></a></center></td><td class=\"title\"><a href=\"https://spectrum.ieee.org/tech-history/heroic-failures/how-many-people-did-it-take-to-build-the-great-pyramid\" class=\"storylink\">How Many People Did It Take to Build the Great Pyramid?</a><span class=\"sitebit comhead\"> (<a href=\"from?site=ieee.org\"><span class=\"sitestr\">ieee.org</span></a>)</span></td></tr><tr><td colspan=\"2\"></td><td class=\"subtext\">\n",
      "        <span class=\"score\" id=\"score_23330099\">55 points</span> by <a href=\"user?id=samizdis\" class=\"hnuser\">samizdis</a> <span class=\"age\"><a href=\"item?id=23330099\">4 hours ago</a></span> <span id=\"unv_23330099\"></span> | <a href=\"hide?id=23330099&amp;goto=news\">hide</a> | <a href=\"item?id=23330099\">35&nbsp;comments</a>              </td></tr>\n",
      "      <tr class=\"spacer\" style=\"height:5px\"></tr>\n",
      "                <tr class='athing' id='23336396'>\n",
      "      <td align=\"right\" valign=\"top\" class=\"title\"><span class=\"rank\">13.</span></td>      <td valign=\"top\" class=\"votelinks\"><center><a id='up_23336396' href='vote?id=23336396&amp;how=up&amp;goto=news'><div class='votearrow' title='upvote'></div></a></center></td><td class=\"title\"><a href=\"https://remusao.github.io/posts/whats-in-a-parser-combinator.html\" class=\"storylink\">What's in a Parser Combinator? (2016)</a><span class=\"sitebit comhead\"> (<a href=\"from?site=remusao.github.io\"><span class=\"sitestr\">remusao.github.io</span></a>)</span></td></tr><tr><td colspan=\"2\"></td><td class=\"subtext\">\n",
      "        <span class=\"score\" id=\"score_23336396\">9 points</span> by <a href=\"user?id=pythux\" class=\"hnuser\">pythux</a> <span class=\"age\"><a href=\"item?id=23336396\">1 hour ago</a></span> <span id=\"unv_23336396\"></span> | <a href=\"hide?id=23336396&amp;goto=news\">hide</a> | <a href=\"item?id=23336396\">discuss</a>              </td></tr>\n",
      "      <tr class=\"spacer\" style=\"height:5px\"></tr>\n",
      "                <tr class='athing' id='23338119'>\n",
      "      <td align=\"right\" valign=\"top\" class=\"title\"><span class=\"rank\">14.</span></td>      <td valign=\"top\" class=\"votelinks\"><center><a id='up_23338119' href='vote?id=23338119&amp;how=up&amp;goto=news'><div class='votearrow' title='upvote'></div></a></center></td><td class=\"title\"><a href=\"https://lwn.net/Articles/819853/\" class=\"storylink\">The PEPs of Python 3.9</a><span class=\"sitebit comhead\"> (<a href=\"from?site=lwn.net\"><span class=\"sitestr\">lwn.net</span></a>)</span></td></tr><tr><td colspan=\"2\"></td><td class=\"subtext\">\n",
      "        <span class=\"score\" id=\"score_23338119\">202 points</span> by <a href=\"user?id=zdw\" class=\"hnuser\">zdw</a> <span class=\"age\"><a href=\"item?id=23338119\">12 hours ago</a></span> <span id=\"unv_23338119\"></span> | <a href=\"hide?id=23338119&amp;goto=news\">hide</a> | <a href=\"item?id=23338119\">143&nbsp;comments</a>              </td></tr>\n",
      "      <tr class=\"spacer\" style=\"height:5px\"></tr>\n",
      "                <tr class='athing' id='23336247'>\n",
      "      <td align=\"right\" valign=\"top\" class=\"title\"><span class=\"rank\">15.</span></td>      <td valign=\"top\" class=\"votelinks\"><center><a id='up_23336247' href='vote?id=23336247&amp;how=up&amp;goto=news'><div class='votearrow' title='upvote'></div></a></center></td><td class=\"title\"><a href=\"https://www.wired.com/story/remote-work-perks-until-want-promotion/\" class=\"storylink\">Remote work has its perks, until you want a promotion</a><span class=\"sitebit comhead\"> (<a href=\"from?site=wired.com\"><span class=\"sitestr\">wired.com</span></a>)</span></td></tr><tr><td colspan=\"2\"></td><td class=\"subtext\">\n",
      "        <span class=\"score\" id=\"score_23336247\">360 points</span> by <a href=\"user?id=headalgorithm\" class=\"hnuser\">headalgorithm</a> <span class=\"age\"><a href=\"item?id=23336247\">12 hours ago</a></span> <span id=\"unv_23336247\"></span> | <a href=\"hide?id=23336247&amp;goto=news\">hide</a> | <a href=\"item?id=23336247\">291&nbsp;comments</a>              </td></tr>\n",
      "      <tr class=\"spacer\" style=\"height:5px\"></tr>\n",
      "                <tr class='athing' id='23335759'>\n",
      "      <td align=\"right\" valign=\"top\" class=\"title\"><span class=\"rank\">16.</span></td>      <td valign=\"top\" class=\"votelinks\"><center><a id='up_23335759' href='vote?id=23335759&amp;how=up&amp;goto=news'><div class='votearrow' title='upvote'></div></a></center></td><td class=\"title\"><a href=\"https://github.com/zadam/trilium\" class=\"storylink\">Trilium Notes – Markdown autoformat (WYSIWYG) personal knowledge base</a><span class=\"sitebit comhead\"> (<a href=\"from?site=github.com\"><span class=\"sitestr\">github.com</span></a>)</span></td></tr><tr><td colspan=\"2\"></td><td class=\"subtext\">\n",
      "        <span class=\"score\" id=\"score_23335759\">89 points</span> by <a href=\"user?id=en3r0\" class=\"hnuser\">en3r0</a> <span class=\"age\"><a href=\"item?id=23335759\">7 hours ago</a></span> <span id=\"unv_23335759\"></span> | <a href=\"hide?id=23335759&amp;goto=news\">hide</a> | <a href=\"item?id=23335759\">20&nbsp;comments</a>              </td></tr>\n",
      "      <tr class=\"spacer\" style=\"height:5px\"></tr>\n",
      "                <tr class='athing' id='23343799'>\n",
      "      <td align=\"right\" valign=\"top\" class=\"title\"><span class=\"rank\">17.</span></td>      <td valign=\"top\" class=\"votelinks\"><center><a id='up_23343799' href='vote?id=23343799&amp;how=up&amp;goto=news'><div class='votearrow' title='upvote'></div></a></center></td><td class=\"title\"><a href=\"https://kitsonkelly.com/posts/deno-is-a-browser-for-code/\" class=\"storylink\">Deno Is a Browser for Code</a><span class=\"sitebit comhead\"> (<a href=\"from?site=kitsonkelly.com\"><span class=\"sitestr\">kitsonkelly.com</span></a>)</span></td></tr><tr><td colspan=\"2\"></td><td class=\"subtext\">\n",
      "        <span class=\"score\" id=\"score_23343799\">44 points</span> by <a href=\"user?id=beefman\" class=\"hnuser\">beefman</a> <span class=\"age\"><a href=\"item?id=23343799\">4 hours ago</a></span> <span id=\"unv_23343799\"></span> | <a href=\"hide?id=23343799&amp;goto=news\">hide</a> | <a href=\"item?id=23343799\">18&nbsp;comments</a>              </td></tr>\n",
      "      <tr class=\"spacer\" style=\"height:5px\"></tr>\n",
      "                <tr class='athing' id='23339776'>\n",
      "      <td align=\"right\" valign=\"top\" class=\"title\"><span class=\"rank\">18.</span></td>      <td valign=\"top\" class=\"votelinks\"><center><a id='up_23339776' href='vote?id=23339776&amp;how=up&amp;goto=news'><div class='votearrow' title='upvote'></div></a></center></td><td class=\"title\"><a href=\"https://csswizardry.com/2020/05/the-fastest-google-fonts/\" class=\"storylink\">The Fastest Google Fonts</a><span class=\"sitebit comhead\"> (<a href=\"from?site=csswizardry.com\"><span class=\"sitestr\">csswizardry.com</span></a>)</span></td></tr><tr><td colspan=\"2\"></td><td class=\"subtext\">\n",
      "        <span class=\"score\" id=\"score_23339776\">141 points</span> by <a href=\"user?id=mmoez\" class=\"hnuser\">mmoez</a> <span class=\"age\"><a href=\"item?id=23339776\">9 hours ago</a></span> <span id=\"unv_23339776\"></span> | <a href=\"hide?id=23339776&amp;goto=news\">hide</a> | <a href=\"item?id=23339776\">96&nbsp;comments</a>              </td></tr>\n",
      "      <tr class=\"spacer\" style=\"height:5px\"></tr>\n",
      "                <tr class='athing' id='23341721'>\n",
      "      <td align=\"right\" valign=\"top\" class=\"title\"><span class=\"rank\">19.</span></td>      <td valign=\"top\" class=\"votelinks\"><center><a id='up_23341721' href='vote?id=23341721&amp;how=up&amp;goto=news'><div class='votearrow' title='upvote'></div></a></center></td><td class=\"title\"><a href=\"https://virtuallyfun.com/wordpress/2020/05/28/powerpc-solaris-on-the-rs-6000/\" class=\"storylink\">PowerPC Solaris on the RS/6000</a><span class=\"sitebit comhead\"> (<a href=\"from?site=virtuallyfun.com\"><span class=\"sitestr\">virtuallyfun.com</span></a>)</span></td></tr><tr><td colspan=\"2\"></td><td class=\"subtext\">\n",
      "        <span class=\"score\" id=\"score_23341721\">49 points</span> by <a href=\"user?id=bcantrill\" class=\"hnuser\">bcantrill</a> <span class=\"age\"><a href=\"item?id=23341721\">6 hours ago</a></span> <span id=\"unv_23341721\"></span> | <a href=\"hide?id=23341721&amp;goto=news\">hide</a> | <a href=\"item?id=23341721\">21&nbsp;comments</a>              </td></tr>\n",
      "      <tr class=\"spacer\" style=\"height:5px\"></tr>\n",
      "                <tr class='athing' id='23340887'>\n",
      "      <td align=\"right\" valign=\"top\" class=\"title\"><span class=\"rank\">20.</span></td>      <td valign=\"top\" class=\"votelinks\"><center><a id='up_23340887' href='vote?id=23340887&amp;how=up&amp;goto=news'><div class='votearrow' title='upvote'></div></a></center></td><td class=\"title\"><a href=\"https://android-developers.googleblog.com/2020/05/android-studio-4.html\" class=\"storylink\">Android Studio 4.0</a><span class=\"sitebit comhead\"> (<a href=\"from?site=googleblog.com\"><span class=\"sitestr\">googleblog.com</span></a>)</span></td></tr><tr><td colspan=\"2\"></td><td class=\"subtext\">\n",
      "        <span class=\"score\" id=\"score_23340887\">194 points</span> by <a href=\"user?id=raybb\" class=\"hnuser\">raybb</a> <span class=\"age\"><a href=\"item?id=23340887\">8 hours ago</a></span> <span id=\"unv_23340887\"></span> | <a href=\"hide?id=23340887&amp;goto=news\">hide</a> | <a href=\"item?id=23340887\">173&nbsp;comments</a>              </td></tr>\n",
      "      <tr class=\"spacer\" style=\"height:5px\"></tr>\n",
      "                <tr class='athing' id='23342052'>\n",
      "      <td align=\"right\" valign=\"top\" class=\"title\"><span class=\"rank\">21.</span></td>      <td valign=\"top\" class=\"votelinks\"><center><a id='up_23342052' href='vote?id=23342052&amp;how=up&amp;goto=news'><div class='votearrow' title='upvote'></div></a></center></td><td class=\"title\"><a href=\"https://www.techempower.com/blog/2020/05/28/framework-benchmarks-round-19/\" class=\"storylink\">Framework Benchmarks Round 19</a><span class=\"sitebit comhead\"> (<a href=\"from?site=techempower.com\"><span class=\"sitestr\">techempower.com</span></a>)</span></td></tr><tr><td colspan=\"2\"></td><td class=\"subtext\">\n",
      "        <span class=\"score\" id=\"score_23342052\">55 points</span> by <a href=\"user?id=bhauer\" class=\"hnuser\">bhauer</a> <span class=\"age\"><a href=\"item?id=23342052\">6 hours ago</a></span> <span id=\"unv_23342052\"></span> | <a href=\"hide?id=23342052&amp;goto=news\">hide</a> | <a href=\"item?id=23342052\">24&nbsp;comments</a>              </td></tr>\n",
      "      <tr class=\"spacer\" style=\"height:5px\"></tr>\n",
      "                <tr class='athing' id='23339004'>\n",
      "      <td align=\"right\" valign=\"top\" class=\"title\"><span class=\"rank\">22.</span></td>      <td valign=\"top\" class=\"votelinks\"><center><a id='up_23339004' href='vote?id=23339004&amp;how=up&amp;goto=news'><div class='votearrow' title='upvote'></div></a></center></td><td class=\"title\"><a href=\"https://www.newyorker.com/culture/annals-of-inquiry/can-remote-work-be-fixed\" class=\"storylink\">Why remote work is hard and how it can be fixed</a><span class=\"sitebit comhead\"> (<a href=\"from?site=newyorker.com\"><span class=\"sitestr\">newyorker.com</span></a>)</span></td></tr><tr><td colspan=\"2\"></td><td class=\"subtext\">\n",
      "        <span class=\"score\" id=\"score_23339004\">144 points</span> by <a href=\"user?id=BerislavLopac\" class=\"hnuser\">BerislavLopac</a> <span class=\"age\"><a href=\"item?id=23339004\">10 hours ago</a></span> <span id=\"unv_23339004\"></span> | <a href=\"hide?id=23339004&amp;goto=news\">hide</a> | <a href=\"item?id=23339004\">89&nbsp;comments</a>              </td></tr>\n",
      "      <tr class=\"spacer\" style=\"height:5px\"></tr>\n",
      "                <tr class='athing' id='23344977'>\n",
      "      <td align=\"right\" valign=\"top\" class=\"title\"><span class=\"rank\">23.</span></td>      <td></td><td class=\"title\"><a href=\"https://mux.com/jobs/\" class=\"storylink\" rel=\"nofollow\">Mux (YC W16) is hiring engineers to work on cloud video infrastructure</a><span class=\"sitebit comhead\"> (<a href=\"from?site=mux.com\"><span class=\"sitestr\">mux.com</span></a>)</span></td></tr><tr><td colspan=\"2\"></td><td class=\"subtext\">\n",
      "        <span class=\"age\"><a href=\"item?id=23344977\">2 hours ago</a></span> | <a href=\"hide?id=23344977&amp;goto=news\">hide</a>      </td></tr>\n",
      "      <tr class=\"spacer\" style=\"height:5px\"></tr>\n",
      "                <tr class='athing' id='23335368'>\n",
      "      <td align=\"right\" valign=\"top\" class=\"title\"><span class=\"rank\">24.</span></td>      <td valign=\"top\" class=\"votelinks\"><center><a id='up_23335368' href='vote?id=23335368&amp;how=up&amp;goto=news'><div class='votearrow' title='upvote'></div></a></center></td><td class=\"title\"><a href=\"https://www.scientificamerican.com/article/why-we-have-so-many-problems-with-our-teeth/\" class=\"storylink\">Why we have so many problems with our teeth</a><span class=\"sitebit comhead\"> (<a href=\"from?site=scientificamerican.com\"><span class=\"sitestr\">scientificamerican.com</span></a>)</span></td></tr><tr><td colspan=\"2\"></td><td class=\"subtext\">\n",
      "        <span class=\"score\" id=\"score_23335368\">119 points</span> by <a href=\"user?id=lelf\" class=\"hnuser\">lelf</a> <span class=\"age\"><a href=\"item?id=23335368\">6 hours ago</a></span> <span id=\"unv_23335368\"></span> | <a href=\"hide?id=23335368&amp;goto=news\">hide</a> | <a href=\"item?id=23335368\">128&nbsp;comments</a>              </td></tr>\n",
      "      <tr class=\"spacer\" style=\"height:5px\"></tr>\n",
      "                <tr class='athing' id='23343668'>\n",
      "      <td align=\"right\" valign=\"top\" class=\"title\"><span class=\"rank\">25.</span></td>      <td valign=\"top\" class=\"votelinks\"><center><a id='up_23343668' href='vote?id=23343668&amp;how=up&amp;goto=news'><div class='votearrow' title='upvote'></div></a></center></td><td class=\"title\"><a href=\"https://english.elpais.com/elpais/2016/03/28/inenglish/1459165488_731020.html\" class=\"storylink\">The chart that proves that Spanish schedules are downright weird (2016)</a><span class=\"sitebit comhead\"> (<a href=\"from?site=elpais.com\"><span class=\"sitestr\">elpais.com</span></a>)</span></td></tr><tr><td colspan=\"2\"></td><td class=\"subtext\">\n",
      "        <span class=\"score\" id=\"score_23343668\">32 points</span> by <a href=\"user?id=jxub\" class=\"hnuser\">jxub</a> <span class=\"age\"><a href=\"item?id=23343668\">4 hours ago</a></span> <span id=\"unv_23343668\"></span> | <a href=\"hide?id=23343668&amp;goto=news\">hide</a> | <a href=\"item?id=23343668\">14&nbsp;comments</a>              </td></tr>\n",
      "      <tr class=\"spacer\" style=\"height:5px\"></tr>\n",
      "                <tr class='athing' id='23336407'>\n",
      "      <td align=\"right\" valign=\"top\" class=\"title\"><span class=\"rank\">26.</span></td>      <td valign=\"top\" class=\"votelinks\"><center><a id='up_23336407' href='vote?id=23336407&amp;how=up&amp;goto=news'><div class='votearrow' title='upvote'></div></a></center></td><td class=\"title\"><a href=\"https://arstechnica.com/information-technology/2020/05/dangerous-sha-1-crypto-function-is-about-to-die-in-ssh/\" class=\"storylink\">Dangerous SHA-1 crypto function is about to die in SSH</a><span class=\"sitebit comhead\"> (<a href=\"from?site=arstechnica.com\"><span class=\"sitestr\">arstechnica.com</span></a>)</span></td></tr><tr><td colspan=\"2\"></td><td class=\"subtext\">\n",
      "        <span class=\"score\" id=\"score_23336407\">23 points</span> by <a href=\"user?id=headalgorithm\" class=\"hnuser\">headalgorithm</a> <span class=\"age\"><a href=\"item?id=23336407\">5 hours ago</a></span> <span id=\"unv_23336407\"></span> | <a href=\"hide?id=23336407&amp;goto=news\">hide</a> | <a href=\"item?id=23336407\">2&nbsp;comments</a>              </td></tr>\n",
      "      <tr class=\"spacer\" style=\"height:5px\"></tr>\n",
      "                <tr class='athing' id='23322310'>\n",
      "      <td align=\"right\" valign=\"top\" class=\"title\"><span class=\"rank\">27.</span></td>      <td valign=\"top\" class=\"votelinks\"><center><a id='up_23322310' href='vote?id=23322310&amp;how=up&amp;goto=news'><div class='votearrow' title='upvote'></div></a></center></td><td class=\"title\"><a href=\"https://manpages.bsd.lv/history.html\" class=\"storylink\">History of Unix Manpages (2011)</a><span class=\"sitebit comhead\"> (<a href=\"from?site=bsd.lv\"><span class=\"sitestr\">bsd.lv</span></a>)</span></td></tr><tr><td colspan=\"2\"></td><td class=\"subtext\">\n",
      "        <span class=\"score\" id=\"score_23322310\">39 points</span> by <a href=\"user?id=fanf2\" class=\"hnuser\">fanf2</a> <span class=\"age\"><a href=\"item?id=23322310\">7 hours ago</a></span> <span id=\"unv_23322310\"></span> | <a href=\"hide?id=23322310&amp;goto=news\">hide</a> | <a href=\"item?id=23322310\">11&nbsp;comments</a>              </td></tr>\n",
      "      <tr class=\"spacer\" style=\"height:5px\"></tr>\n",
      "                <tr class='athing' id='23344666'>\n",
      "      <td align=\"right\" valign=\"top\" class=\"title\"><span class=\"rank\">28.</span></td>      <td valign=\"top\" class=\"votelinks\"><center><a id='up_23344666' href='vote?id=23344666&amp;how=up&amp;goto=news'><div class='votearrow' title='upvote'></div></a></center></td><td class=\"title\"><a href=\"https://lamport.azurewebsites.net/pubs/pubs.html\" class=\"storylink\">The Writings of Leslie Lamport</a><span class=\"sitebit comhead\"> (<a href=\"from?site=lamport.azurewebsites.net\"><span class=\"sitestr\">lamport.azurewebsites.net</span></a>)</span></td></tr><tr><td colspan=\"2\"></td><td class=\"subtext\">\n",
      "        <span class=\"score\" id=\"score_23344666\">36 points</span> by <a href=\"user?id=kaymanb\" class=\"hnuser\">kaymanb</a> <span class=\"age\"><a href=\"item?id=23344666\">3 hours ago</a></span> <span id=\"unv_23344666\"></span> | <a href=\"hide?id=23344666&amp;goto=news\">hide</a> | <a href=\"item?id=23344666\">3&nbsp;comments</a>              </td></tr>\n",
      "      <tr class=\"spacer\" style=\"height:5px\"></tr>\n",
      "                <tr class='athing' id='23343794'>\n",
      "      <td align=\"right\" valign=\"top\" class=\"title\"><span class=\"rank\">29.</span></td>      <td valign=\"top\" class=\"votelinks\"><center><a id='up_23343794' href='vote?id=23343794&amp;how=up&amp;goto=news'><div class='votearrow' title='upvote'></div></a></center></td><td class=\"title\"><a href=\"https://blog.stetsonblake.com/thoughts-on-learning-to-design-build-and-launch-a-saas-business/\" class=\"storylink\">I wrote a SaaS product because the internet made me believe it'd make me rich</a><span class=\"sitebit comhead\"> (<a href=\"from?site=stetsonblake.com\"><span class=\"sitestr\">stetsonblake.com</span></a>)</span></td></tr><tr><td colspan=\"2\"></td><td class=\"subtext\">\n",
      "        <span class=\"score\" id=\"score_23343794\">94 points</span> by <a href=\"user?id=stets\" class=\"hnuser\">stets</a> <span class=\"age\"><a href=\"item?id=23343794\">4 hours ago</a></span> <span id=\"unv_23343794\"></span> | <a href=\"hide?id=23343794&amp;goto=news\">hide</a> | <a href=\"item?id=23343794\">71&nbsp;comments</a>              </td></tr>\n",
      "      <tr class=\"spacer\" style=\"height:5px\"></tr>\n",
      "                <tr class='athing' id='23341899'>\n",
      "      <td align=\"right\" valign=\"top\" class=\"title\"><span class=\"rank\">30.</span></td>      <td valign=\"top\" class=\"votelinks\"><center><a id='up_23341899' href='vote?id=23341899&amp;how=up&amp;goto=news'><div class='votearrow' title='upvote'></div></a></center></td><td class=\"title\"><a href=\"https://www.pagemarker.io/?ref=hackernews\" class=\"storylink\">Show HN: PageMarker – Organize, annotate and revisit your bookmarks</a><span class=\"sitebit comhead\"> (<a href=\"from?site=pagemarker.io\"><span class=\"sitestr\">pagemarker.io</span></a>)</span></td></tr><tr><td colspan=\"2\"></td><td class=\"subtext\">\n",
      "        <span class=\"score\" id=\"score_23341899\">38 points</span> by <a href=\"user?id=charly1811\" class=\"hnuser\">charly1811</a> <span class=\"age\"><a href=\"item?id=23341899\">7 hours ago</a></span> <span id=\"unv_23341899\"></span> | <a href=\"hide?id=23341899&amp;goto=news\">hide</a> | <a href=\"item?id=23341899\">13&nbsp;comments</a>              </td></tr>\n",
      "      <tr class=\"spacer\" style=\"height:5px\"></tr>\n",
      "            <tr class=\"morespace\" style=\"height:10px\"></tr><tr><td colspan=\"2\"></td><td class=\"title\"><a href=\"news?p=2\" class=\"morelink\" rel=\"next\">More</a></td></tr>\n",
      "  </table>\n",
      "</td></tr>\n",
      "<tr><td><img src=\"s.gif\" height=\"10\" width=\"0\"><table width=\"100%\" cellspacing=\"0\" cellpadding=\"1\"><tr><td bgcolor=\"#ff6600\"></td></tr></table><br><center><span class=\"yclinks\"><a href=\"newsguidelines.html\">Guidelines</a>\n",
      "        | <a href=\"newsfaq.html\">FAQ</a>\n",
      "        | <a href=\"mailto:hn@ycombinator.com\">Support</a>\n",
      "        | <a href=\"https://github.com/HackerNews/API\">API</a>\n",
      "        | <a href=\"security.html\">Security</a>\n",
      "        | <a href=\"lists\">Lists</a>\n",
      "        | <a href=\"bookmarklet.html\" rel=\"nofollow\">Bookmarklet</a>\n",
      "        | <a href=\"http://www.ycombinator.com/legal/\">Legal</a>\n",
      "        | <a href=\"http://www.ycombinator.com/apply/\">Apply to YC</a>\n",
      "        | <a href=\"mailto:hn@ycombinator.com\">Contact</a></span><br><br><form method=\"get\" action=\"//hn.algolia.com/\">Search:\n",
      "          <input type=\"text\" name=\"q\" value=\"\" size=\"17\" autocorrect=\"off\" spellcheck=\"false\" autocapitalize=\"off\" autocomplete=\"false\"></form>\n",
      "            </center></td></tr>\n",
      "      </table></center></body><script type='text/javascript' src='hn.js?6osDtdDRJS2fPerXRqDm'></script></html>\n",
      "\n"
     ]
    }
   ],
   "source": [
    "import requests\n",
    "\n",
    "# Fetch a web page\n",
    "r = requests.get(\"https://news.ycombinator.com\")\n",
    "print(r.text)"
   ]
  },
  {
   "cell_type": "code",
   "execution_count": 5,
   "metadata": {},
   "outputs": [
    {
     "name": "stdout",
     "output_type": "stream",
     "text": [
      "\n",
      "        \n",
      "          \n",
      "        Hacker News\n",
      "        \n",
      "                  Hacker News\n",
      "              new | past | comments | ask | show | jobs | submit            \n",
      "                              login\n",
      "                          \n",
      "              \n",
      "\n",
      "              \n",
      "      1.      “GPT-3: Language Models Are Few-Shot Learners”, Brown et al. 2020 (OpenAI) (arxiv.org)\n",
      "        84 points by gwern 1 hour ago  | hide | 24&nbsp;comments              \n",
      "      \n",
      "                \n",
      "      2.      1989 California Medfly Attack (wikipedia.org)\n",
      "        46 points by eindiran 2 hours ago  | hide | 8&nbsp;comments              \n",
      "      \n",
      "                \n",
      "      3.      AudioMass – free, open source, web-based Audio and Waveform editor (audiomass.co)\n",
      "        815 points by zaiste 13 hours ago  | hide | 145&nbsp;comments              \n",
      "      \n",
      "                \n",
      "      4.      Show HN: RoughNotation – create and animate hand-drawn annotations on a web page (roughnotation.com)\n",
      "        452 points by shihn 10 hours ago  | hide | 61&nbsp;comments              \n",
      "      \n",
      "                \n",
      "      5.      OpenSSL 3.0 (openssl.org)\n",
      "        30 points by ddb 2 hours ago  | hide | 3&nbsp;comments              \n",
      "      \n",
      "                \n",
      "      6.      Idea Generation (samaltman.com)\n",
      "        245 points by awaxman11 7 hours ago  | hide | 80&nbsp;comments              \n",
      "      \n",
      "                \n",
      "      7.      Tools for Better Thinking (untools.co)\n",
      "        408 points by mmoez 9 hours ago  | hide | 57&nbsp;comments              \n",
      "      \n",
      "                \n",
      "      8.      GPT-3: Language Models Are Few-Shot Learners (github.com)\n",
      "        54 points by baylearn 1 hour ago  | hide | 6&nbsp;comments              \n",
      "      \n",
      "                \n",
      "      9.      The Vintage Beauty of Soviet Control Rooms (2018) (designyoutrust.com)\n",
      "        522 points by ricardomcgowan 13 hours ago  | hide | 215&nbsp;comments              \n",
      "      \n",
      "                \n",
      "      10.      Most-streamed track of the day by country (worldspotify.com)\n",
      "        65 points by sebastien-lbn 4 hours ago  | hide | 63&nbsp;comments              \n",
      "      \n",
      "                \n",
      "      11.      The Epic Games Primer (matthewball.vc)\n",
      "        48 points by homarp 3 hours ago  | hide | 8&nbsp;comments              \n",
      "      \n",
      "                \n",
      "      12.      How Many People Did It Take to Build the Great Pyramid? (ieee.org)\n",
      "        55 points by samizdis 4 hours ago  | hide | 35&nbsp;comments              \n",
      "      \n",
      "                \n",
      "      13.      What's in a Parser Combinator? (2016) (remusao.github.io)\n",
      "        9 points by pythux 1 hour ago  | hide | discuss              \n",
      "      \n",
      "                \n",
      "      14.      The PEPs of Python 3.9 (lwn.net)\n",
      "        202 points by zdw 12 hours ago  | hide | 143&nbsp;comments              \n",
      "      \n",
      "                \n",
      "      15.      Remote work has its perks, until you want a promotion (wired.com)\n",
      "        360 points by headalgorithm 12 hours ago  | hide | 291&nbsp;comments              \n",
      "      \n",
      "                \n",
      "      16.      Trilium Notes – Markdown autoformat (WYSIWYG) personal knowledge base (github.com)\n",
      "        89 points by en3r0 7 hours ago  | hide | 20&nbsp;comments              \n",
      "      \n",
      "                \n",
      "      17.      Deno Is a Browser for Code (kitsonkelly.com)\n",
      "        44 points by beefman 4 hours ago  | hide | 18&nbsp;comments              \n",
      "      \n",
      "                \n",
      "      18.      The Fastest Google Fonts (csswizardry.com)\n",
      "        141 points by mmoez 9 hours ago  | hide | 96&nbsp;comments              \n",
      "      \n",
      "                \n",
      "      19.      PowerPC Solaris on the RS/6000 (virtuallyfun.com)\n",
      "        49 points by bcantrill 6 hours ago  | hide | 21&nbsp;comments              \n",
      "      \n",
      "                \n",
      "      20.      Android Studio 4.0 (googleblog.com)\n",
      "        194 points by raybb 8 hours ago  | hide | 173&nbsp;comments              \n",
      "      \n",
      "                \n",
      "      21.      Framework Benchmarks Round 19 (techempower.com)\n",
      "        55 points by bhauer 6 hours ago  | hide | 24&nbsp;comments              \n",
      "      \n",
      "                \n",
      "      22.      Why remote work is hard and how it can be fixed (newyorker.com)\n",
      "        144 points by BerislavLopac 10 hours ago  | hide | 89&nbsp;comments              \n",
      "      \n",
      "                \n",
      "      23.      Mux (YC W16) is hiring engineers to work on cloud video infrastructure (mux.com)\n",
      "        2 hours ago | hide      \n",
      "      \n",
      "                \n",
      "      24.      Why we have so many problems with our teeth (scientificamerican.com)\n",
      "        119 points by lelf 6 hours ago  | hide | 128&nbsp;comments              \n",
      "      \n",
      "                \n",
      "      25.      The chart that proves that Spanish schedules are downright weird (2016) (elpais.com)\n",
      "        32 points by jxub 4 hours ago  | hide | 14&nbsp;comments              \n",
      "      \n",
      "                \n",
      "      26.      Dangerous SHA-1 crypto function is about to die in SSH (arstechnica.com)\n",
      "        23 points by headalgorithm 5 hours ago  | hide | 2&nbsp;comments              \n",
      "      \n",
      "                \n",
      "      27.      History of Unix Manpages (2011) (bsd.lv)\n",
      "        39 points by fanf2 7 hours ago  | hide | 11&nbsp;comments              \n",
      "      \n",
      "                \n",
      "      28.      The Writings of Leslie Lamport (lamport.azurewebsites.net)\n",
      "        36 points by kaymanb 3 hours ago  | hide | 3&nbsp;comments              \n",
      "      \n",
      "                \n",
      "      29.      I wrote a SaaS product because the internet made me believe it'd make me rich (stetsonblake.com)\n",
      "        94 points by stets 4 hours ago  | hide | 71&nbsp;comments              \n",
      "      \n",
      "                \n",
      "      30.      Show HN: PageMarker – Organize, annotate and revisit your bookmarks (pagemarker.io)\n",
      "        38 points by charly1811 7 hours ago  | hide | 13&nbsp;comments              \n",
      "      \n",
      "            More\n",
      "  \n",
      "\n",
      "Guidelines\n",
      "        | FAQ\n",
      "        | Support\n",
      "        | API\n",
      "        | Security\n",
      "        | Lists\n",
      "        | Bookmarklet\n",
      "        | Legal\n",
      "        | Apply to YC\n",
      "        | ContactSearch:\n",
      "          \n",
      "            \n",
      "      \n",
      "\n"
     ]
    }
   ],
   "source": [
    "import re\n",
    "\n",
    "# Remove HTML tags using RegEx\n",
    "pattern = re.compile(r'<.*?>')  # tags look like <...>\n",
    "print(pattern.sub('', r.text))  # replace them with blank"
   ]
  },
  {
   "cell_type": "code",
   "execution_count": 6,
   "metadata": {},
   "outputs": [
    {
     "name": "stdout",
     "output_type": "stream",
     "text": [
      "\n",
      "        \n",
      "          \n",
      "        Hacker News\n",
      "        \n",
      "                  Hacker News\n",
      "              new | past | comments | ask | show | jobs | submit            \n",
      "                              login\n",
      "                          \n",
      "              \n",
      "\n",
      "              \n",
      "      1.      “GPT-3: Language Models Are Few-Shot Learners”, Brown et al. 2020 (OpenAI) (arxiv.org)\n",
      "        84 points by gwern 1 hour ago  | hide | 24 comments              \n",
      "      \n",
      "                \n",
      "      2.      1989 California Medfly Attack (wikipedia.org)\n",
      "        46 points by eindiran 2 hours ago  | hide | 8 comments              \n",
      "      \n",
      "                \n",
      "      3.      AudioMass – free, open source, web-based Audio and Waveform editor (audiomass.co)\n",
      "        815 points by zaiste 13 hours ago  | hide | 145 comments              \n",
      "      \n",
      "                \n",
      "      4.      Show HN: RoughNotation – create and animate hand-drawn annotations on a web page (roughnotation.com)\n",
      "        452 points by shihn 10 hours ago  | hide | 61 comments              \n",
      "      \n",
      "                \n",
      "      5.      OpenSSL 3.0 (openssl.org)\n",
      "        30 points by ddb 2 hours ago  | hide | 3 comments              \n",
      "      \n",
      "                \n",
      "      6.      Idea Generation (samaltman.com)\n",
      "        245 points by awaxman11 7 hours ago  | hide | 80 comments              \n",
      "      \n",
      "                \n",
      "      7.      Tools for Better Thinking (untools.co)\n",
      "        408 points by mmoez 9 hours ago  | hide | 57 comments              \n",
      "      \n",
      "                \n",
      "      8.      GPT-3: Language Models Are Few-Shot Learners (github.com)\n",
      "        54 points by baylearn 1 hour ago  | hide | 6 comments              \n",
      "      \n",
      "                \n",
      "      9.      The Vintage Beauty of Soviet Control Rooms (2018) (designyoutrust.com)\n",
      "        522 points by ricardomcgowan 13 hours ago  | hide | 215 comments              \n",
      "      \n",
      "                \n",
      "      10.      Most-streamed track of the day by country (worldspotify.com)\n",
      "        65 points by sebastien-lbn 4 hours ago  | hide | 63 comments              \n",
      "      \n",
      "                \n",
      "      11.      The Epic Games Primer (matthewball.vc)\n",
      "        48 points by homarp 3 hours ago  | hide | 8 comments              \n",
      "      \n",
      "                \n",
      "      12.      How Many People Did It Take to Build the Great Pyramid? (ieee.org)\n",
      "        55 points by samizdis 4 hours ago  | hide | 35 comments              \n",
      "      \n",
      "                \n",
      "      13.      What's in a Parser Combinator? (2016) (remusao.github.io)\n",
      "        9 points by pythux 1 hour ago  | hide | discuss              \n",
      "      \n",
      "                \n",
      "      14.      The PEPs of Python 3.9 (lwn.net)\n",
      "        202 points by zdw 12 hours ago  | hide | 143 comments              \n",
      "      \n",
      "                \n",
      "      15.      Remote work has its perks, until you want a promotion (wired.com)\n",
      "        360 points by headalgorithm 12 hours ago  | hide | 291 comments              \n",
      "      \n",
      "                \n",
      "      16.      Trilium Notes – Markdown autoformat (WYSIWYG) personal knowledge base (github.com)\n",
      "        89 points by en3r0 7 hours ago  | hide | 20 comments              \n",
      "      \n",
      "                \n",
      "      17.      Deno Is a Browser for Code (kitsonkelly.com)\n",
      "        44 points by beefman 4 hours ago  | hide | 18 comments              \n",
      "      \n",
      "                \n",
      "      18.      The Fastest Google Fonts (csswizardry.com)\n",
      "        141 points by mmoez 9 hours ago  | hide | 96 comments              \n",
      "      \n",
      "                \n",
      "      19.      PowerPC Solaris on the RS/6000 (virtuallyfun.com)\n",
      "        49 points by bcantrill 6 hours ago  | hide | 21 comments              \n",
      "      \n",
      "                \n",
      "      20.      Android Studio 4.0 (googleblog.com)\n",
      "        194 points by raybb 8 hours ago  | hide | 173 comments              \n",
      "      \n",
      "                \n",
      "      21.      Framework Benchmarks Round 19 (techempower.com)\n",
      "        55 points by bhauer 6 hours ago  | hide | 24 comments              \n",
      "      \n",
      "                \n",
      "      22.      Why remote work is hard and how it can be fixed (newyorker.com)\n",
      "        144 points by BerislavLopac 10 hours ago  | hide | 89 comments              \n",
      "      \n",
      "                \n",
      "      23.      Mux (YC W16) is hiring engineers to work on cloud video infrastructure (mux.com)\n",
      "        2 hours ago | hide      \n",
      "      \n",
      "                \n",
      "      24.      Why we have so many problems with our teeth (scientificamerican.com)\n",
      "        119 points by lelf 6 hours ago  | hide | 128 comments              \n",
      "      \n",
      "                \n",
      "      25.      The chart that proves that Spanish schedules are downright weird (2016) (elpais.com)\n",
      "        32 points by jxub 4 hours ago  | hide | 14 comments              \n",
      "      \n",
      "                \n",
      "      26.      Dangerous SHA-1 crypto function is about to die in SSH (arstechnica.com)\n",
      "        23 points by headalgorithm 5 hours ago  | hide | 2 comments              \n",
      "      \n",
      "                \n",
      "      27.      History of Unix Manpages (2011) (bsd.lv)\n",
      "        39 points by fanf2 7 hours ago  | hide | 11 comments              \n",
      "      \n",
      "                \n",
      "      28.      The Writings of Leslie Lamport (lamport.azurewebsites.net)\n",
      "        36 points by kaymanb 3 hours ago  | hide | 3 comments              \n",
      "      \n",
      "                \n",
      "      29.      I wrote a SaaS product because the internet made me believe it'd make me rich (stetsonblake.com)\n",
      "        94 points by stets 4 hours ago  | hide | 71 comments              \n",
      "      \n",
      "                \n",
      "      30.      Show HN: PageMarker – Organize, annotate and revisit your bookmarks (pagemarker.io)\n",
      "        38 points by charly1811 7 hours ago  | hide | 13 comments              \n",
      "      \n",
      "            More\n",
      "  \n",
      "\n",
      "Guidelines\n",
      "        | FAQ\n",
      "        | Support\n",
      "        | API\n",
      "        | Security\n",
      "        | Lists\n",
      "        | Bookmarklet\n",
      "        | Legal\n",
      "        | Apply to YC\n",
      "        | ContactSearch:\n",
      "          \n",
      "            \n",
      "      \n",
      "\n"
     ]
    }
   ],
   "source": [
    "from bs4 import BeautifulSoup\n",
    "\n",
    "# Remove HTML tags using Beautiful Soup library\n",
    "soup = BeautifulSoup(r.text, \"html5lib\")\n",
    "print(soup.get_text())"
   ]
  },
  {
   "cell_type": "code",
   "execution_count": 7,
   "metadata": {
    "scrolled": true
   },
   "outputs": [
    {
     "data": {
      "text/plain": [
       "<tr class=\"athing\" id=\"23345379\">\n",
       "      <td align=\"right\" class=\"title\" valign=\"top\"><span class=\"rank\">1.</span></td>      <td class=\"votelinks\" valign=\"top\"><center><a href=\"vote?id=23345379&amp;how=up&amp;goto=news\" id=\"up_23345379\"><div class=\"votearrow\" title=\"upvote\"></div></a></center></td><td class=\"title\"><a class=\"storylink\" href=\"https://arxiv.org/abs/2005.14165\">“GPT-3: Language Models Are Few-Shot Learners”, Brown et al. 2020 (OpenAI)</a><span class=\"sitebit comhead\"> (<a href=\"from?site=arxiv.org\"><span class=\"sitestr\">arxiv.org</span></a>)</span></td></tr>"
      ]
     },
     "execution_count": 7,
     "metadata": {},
     "output_type": "execute_result"
    }
   ],
   "source": [
    "# Find all articles\n",
    "summaries = soup.find_all(\"tr\", class_=\"athing\")\n",
    "summaries[0]"
   ]
  },
  {
   "cell_type": "code",
   "execution_count": 8,
   "metadata": {},
   "outputs": [
    {
     "data": {
      "text/plain": [
       "'“GPT-3: Language Models Are Few-Shot Learners”, Brown et al. 2020 (OpenAI)'"
      ]
     },
     "execution_count": 8,
     "metadata": {},
     "output_type": "execute_result"
    }
   ],
   "source": [
    "# Extract title\n",
    "summaries[0].find(\"a\", class_=\"storylink\").get_text().strip()"
   ]
  },
  {
   "cell_type": "code",
   "execution_count": 9,
   "metadata": {},
   "outputs": [
    {
     "name": "stdout",
     "output_type": "stream",
     "text": [
      "30 Article summaries found. Sample:\n",
      "“GPT-3: Language Models Are Few-Shot Learners”, Brown et al. 2020 (OpenAI)\n"
     ]
    }
   ],
   "source": [
    "# Find all articles, extract titles\n",
    "articles = []\n",
    "summaries = soup.find_all(\"tr\", class_=\"athing\")\n",
    "for summary in summaries:\n",
    "    title = summary.find(\"a\", class_=\"storylink\").get_text().strip()\n",
    "    articles.append((title))\n",
    "\n",
    "print(len(articles), \"Article summaries found. Sample:\")\n",
    "print(articles[0])"
   ]
  },
  {
   "cell_type": "markdown",
   "metadata": {
    "collapsed": true
   },
   "source": [
    "## Normalization"
   ]
  },
  {
   "cell_type": "markdown",
   "metadata": {},
   "source": [
    "### Case Normalization"
   ]
  },
  {
   "cell_type": "code",
   "execution_count": 10,
   "metadata": {},
   "outputs": [
    {
     "name": "stdout",
     "output_type": "stream",
     "text": [
      "The first time you see The Second Renaissance it may look boring. Look at it at least twice and definitely watch part 2. It will change your view of the matrix. Are the human people the ones who started the war ? Is AI a bad thing ?\n"
     ]
    }
   ],
   "source": [
    "# Sample text\n",
    "text = \"The first time you see The Second Renaissance it may look boring. Look at it at least twice and definitely watch part 2. It will change your view of the matrix. Are the human people the ones who started the war ? Is AI a bad thing ?\"\n",
    "print(text)"
   ]
  },
  {
   "cell_type": "code",
   "execution_count": 11,
   "metadata": {},
   "outputs": [
    {
     "name": "stdout",
     "output_type": "stream",
     "text": [
      "the first time you see the second renaissance it may look boring. look at it at least twice and definitely watch part 2. it will change your view of the matrix. are the human people the ones who started the war ? is ai a bad thing ?\n"
     ]
    }
   ],
   "source": [
    "# Convert to lowercase\n",
    "text = text.lower() \n",
    "print(text)"
   ]
  },
  {
   "cell_type": "markdown",
   "metadata": {},
   "source": [
    "### Punctuation Removal"
   ]
  },
  {
   "cell_type": "code",
   "execution_count": 12,
   "metadata": {},
   "outputs": [
    {
     "name": "stdout",
     "output_type": "stream",
     "text": [
      "the first time you see the second renaissance it may look boring  look at it at least twice and definitely watch part 2  it will change your view of the matrix  are the human people the ones who started the war   is ai a bad thing  \n"
     ]
    }
   ],
   "source": [
    "import re\n",
    "\n",
    "# Remove punctuation characters\n",
    "text = re.sub(r\"[^a-zA-Z0-9]\", \" \", text) \n",
    "print(text)"
   ]
  },
  {
   "cell_type": "markdown",
   "metadata": {},
   "source": [
    "## Tokenization"
   ]
  },
  {
   "cell_type": "code",
   "execution_count": 13,
   "metadata": {},
   "outputs": [
    {
     "name": "stdout",
     "output_type": "stream",
     "text": [
      "['the', 'first', 'time', 'you', 'see', 'the', 'second', 'renaissance', 'it', 'may', 'look', 'boring', 'look', 'at', 'it', 'at', 'least', 'twice', 'and', 'definitely', 'watch', 'part', '2', 'it', 'will', 'change', 'your', 'view', 'of', 'the', 'matrix', 'are', 'the', 'human', 'people', 'the', 'ones', 'who', 'started', 'the', 'war', 'is', 'ai', 'a', 'bad', 'thing']\n"
     ]
    }
   ],
   "source": [
    "# Split text into tokens (words)\n",
    "words = text.split()\n",
    "print(words)"
   ]
  },
  {
   "cell_type": "markdown",
   "metadata": {},
   "source": [
    "### NLTK: Natural Language ToolKit"
   ]
  },
  {
   "cell_type": "code",
   "execution_count": 14,
   "metadata": {},
   "outputs": [],
   "source": [
    "import os\n",
    "import nltk\n",
    "nltk.data.path.append(os.path.join(os.getcwd(), \"nltk_data\"))"
   ]
  },
  {
   "cell_type": "code",
   "execution_count": 15,
   "metadata": {},
   "outputs": [
    {
     "name": "stdout",
     "output_type": "stream",
     "text": [
      "Dr. Smith graduated from the University of Washington. He later started an analytics firm called Lux, which catered to enterprise customers.\n"
     ]
    }
   ],
   "source": [
    "# Another sample text\n",
    "text = \"Dr. Smith graduated from the University of Washington. He later started an analytics firm called Lux, which catered to enterprise customers.\"\n",
    "print(text)"
   ]
  },
  {
   "cell_type": "code",
   "execution_count": 16,
   "metadata": {},
   "outputs": [
    {
     "name": "stdout",
     "output_type": "stream",
     "text": [
      "['Dr.', 'Smith', 'graduated', 'from', 'the', 'University', 'of', 'Washington', '.', 'He', 'later', 'started', 'an', 'analytics', 'firm', 'called', 'Lux', ',', 'which', 'catered', 'to', 'enterprise', 'customers', '.']\n"
     ]
    }
   ],
   "source": [
    "from nltk.tokenize import word_tokenize\n",
    "\n",
    "# Split text into words using NLTK\n",
    "words = word_tokenize(text)\n",
    "print(words)"
   ]
  },
  {
   "cell_type": "code",
   "execution_count": 17,
   "metadata": {},
   "outputs": [
    {
     "name": "stdout",
     "output_type": "stream",
     "text": [
      "['Dr. Smith graduated from the University of Washington.', 'He later started an analytics firm called Lux, which catered to enterprise customers.']\n"
     ]
    }
   ],
   "source": [
    "from nltk.tokenize import sent_tokenize\n",
    "\n",
    "# Split text into sentences\n",
    "sentences = sent_tokenize(text)\n",
    "print(sentences)"
   ]
  },
  {
   "cell_type": "code",
   "execution_count": 18,
   "metadata": {},
   "outputs": [
    {
     "name": "stdout",
     "output_type": "stream",
     "text": [
      "['i', 'me', 'my', 'myself', 'we', 'our', 'ours', 'ourselves', 'you', \"you're\", \"you've\", \"you'll\", \"you'd\", 'your', 'yours', 'yourself', 'yourselves', 'he', 'him', 'his', 'himself', 'she', \"she's\", 'her', 'hers', 'herself', 'it', \"it's\", 'its', 'itself', 'they', 'them', 'their', 'theirs', 'themselves', 'what', 'which', 'who', 'whom', 'this', 'that', \"that'll\", 'these', 'those', 'am', 'is', 'are', 'was', 'were', 'be', 'been', 'being', 'have', 'has', 'had', 'having', 'do', 'does', 'did', 'doing', 'a', 'an', 'the', 'and', 'but', 'if', 'or', 'because', 'as', 'until', 'while', 'of', 'at', 'by', 'for', 'with', 'about', 'against', 'between', 'into', 'through', 'during', 'before', 'after', 'above', 'below', 'to', 'from', 'up', 'down', 'in', 'out', 'on', 'off', 'over', 'under', 'again', 'further', 'then', 'once', 'here', 'there', 'when', 'where', 'why', 'how', 'all', 'any', 'both', 'each', 'few', 'more', 'most', 'other', 'some', 'such', 'no', 'nor', 'not', 'only', 'own', 'same', 'so', 'than', 'too', 'very', 's', 't', 'can', 'will', 'just', 'don', \"don't\", 'should', \"should've\", 'now', 'd', 'll', 'm', 'o', 're', 've', 'y', 'ain', 'aren', \"aren't\", 'couldn', \"couldn't\", 'didn', \"didn't\", 'doesn', \"doesn't\", 'hadn', \"hadn't\", 'hasn', \"hasn't\", 'haven', \"haven't\", 'isn', \"isn't\", 'ma', 'mightn', \"mightn't\", 'mustn', \"mustn't\", 'needn', \"needn't\", 'shan', \"shan't\", 'shouldn', \"shouldn't\", 'wasn', \"wasn't\", 'weren', \"weren't\", 'won', \"won't\", 'wouldn', \"wouldn't\"]\n"
     ]
    }
   ],
   "source": [
    "# List stop words\n",
    "from nltk.corpus import stopwords\n",
    "print(stopwords.words(\"english\"))"
   ]
  },
  {
   "cell_type": "code",
   "execution_count": 19,
   "metadata": {},
   "outputs": [
    {
     "name": "stdout",
     "output_type": "stream",
     "text": [
      "['the', 'first', 'time', 'you', 'see', 'the', 'second', 'renaissance', 'it', 'may', 'look', 'boring', 'look', 'at', 'it', 'at', 'least', 'twice', 'and', 'definitely', 'watch', 'part', '2', 'it', 'will', 'change', 'your', 'view', 'of', 'the', 'matrix', 'are', 'the', 'human', 'people', 'the', 'ones', 'who', 'started', 'the', 'war', 'is', 'ai', 'a', 'bad', 'thing']\n"
     ]
    }
   ],
   "source": [
    "# Reset text\n",
    "text = \"The first time you see The Second Renaissance it may look boring. Look at it at least twice and definitely watch part 2. It will change your view of the matrix. Are the human people the ones who started the war ? Is AI a bad thing ?\"\n",
    "\n",
    "# Normalize it\n",
    "text = re.sub(r\"[^a-zA-Z0-9]\", \" \", text.lower())\n",
    "\n",
    "# Tokenize it\n",
    "words = text.split()\n",
    "print(words)"
   ]
  },
  {
   "cell_type": "code",
   "execution_count": 20,
   "metadata": {},
   "outputs": [
    {
     "name": "stdout",
     "output_type": "stream",
     "text": [
      "['first', 'time', 'see', 'second', 'renaissance', 'may', 'look', 'boring', 'look', 'least', 'twice', 'definitely', 'watch', 'part', '2', 'change', 'view', 'matrix', 'human', 'people', 'ones', 'started', 'war', 'ai', 'bad', 'thing']\n"
     ]
    }
   ],
   "source": [
    "# Remove stop words\n",
    "words = [w for w in words if w not in stopwords.words(\"english\")]\n",
    "print(words)"
   ]
  },
  {
   "cell_type": "markdown",
   "metadata": {},
   "source": [
    "### Sentence Parsing"
   ]
  },
  {
   "cell_type": "code",
   "execution_count": 21,
   "metadata": {},
   "outputs": [
    {
     "name": "stdout",
     "output_type": "stream",
     "text": [
      "(S\n",
      "  (NP I)\n",
      "  (VP\n",
      "    (VP (V shot) (NP (Det an) (N elephant)))\n",
      "    (PP (P in) (NP (Det my) (N pajamas)))))\n",
      "(S\n",
      "  (NP I)\n",
      "  (VP\n",
      "    (V shot)\n",
      "    (NP (Det an) (N elephant) (PP (P in) (NP (Det my) (N pajamas))))))\n"
     ]
    }
   ],
   "source": [
    "import nltk\n",
    "\n",
    "# Define a custom grammar\n",
    "my_grammar = nltk.CFG.fromstring(\"\"\"\n",
    "S -> NP VP\n",
    "PP -> P NP\n",
    "NP -> Det N | Det N PP | 'I'\n",
    "VP -> V NP | VP PP\n",
    "Det -> 'an' | 'my'\n",
    "N -> 'elephant' | 'pajamas'\n",
    "V -> 'shot'\n",
    "P -> 'in'\n",
    "\"\"\")\n",
    "parser = nltk.ChartParser(my_grammar)\n",
    "\n",
    "# Parse a sentence\n",
    "sentence = word_tokenize(\"I shot an elephant in my pajamas\")\n",
    "for tree in parser.parse(sentence):\n",
    "    print(tree)"
   ]
  },
  {
   "cell_type": "markdown",
   "metadata": {},
   "source": [
    "## Stemming & Lemmatization\n",
    "\n",
    "### Stemming"
   ]
  },
  {
   "cell_type": "code",
   "execution_count": 22,
   "metadata": {},
   "outputs": [
    {
     "name": "stdout",
     "output_type": "stream",
     "text": [
      "['first', 'time', 'see', 'second', 'renaiss', 'may', 'look', 'bore', 'look', 'least', 'twice', 'definit', 'watch', 'part', '2', 'chang', 'view', 'matrix', 'human', 'peopl', 'one', 'start', 'war', 'ai', 'bad', 'thing']\n"
     ]
    }
   ],
   "source": [
    "from nltk.stem.porter import PorterStemmer\n",
    "\n",
    "# Reduce words to their stems\n",
    "stemmed = [PorterStemmer().stem(w) for w in words]\n",
    "print(stemmed)"
   ]
  },
  {
   "cell_type": "markdown",
   "metadata": {},
   "source": [
    "### Lemmatization"
   ]
  },
  {
   "cell_type": "code",
   "execution_count": 23,
   "metadata": {},
   "outputs": [
    {
     "name": "stdout",
     "output_type": "stream",
     "text": [
      "['first', 'time', 'see', 'second', 'renaissance', 'may', 'look', 'boring', 'look', 'least', 'twice', 'definitely', 'watch', 'part', '2', 'change', 'view', 'matrix', 'human', 'people', 'one', 'started', 'war', 'ai', 'bad', 'thing']\n"
     ]
    }
   ],
   "source": [
    "from nltk.stem.wordnet import WordNetLemmatizer\n",
    "\n",
    "# Reduce words to their root form\n",
    "lemmed = [WordNetLemmatizer().lemmatize(w) for w in words]\n",
    "print(lemmed)"
   ]
  },
  {
   "cell_type": "code",
   "execution_count": 24,
   "metadata": {},
   "outputs": [
    {
     "name": "stdout",
     "output_type": "stream",
     "text": [
      "['first', 'time', 'see', 'second', 'renaissance', 'may', 'look', 'bore', 'look', 'least', 'twice', 'definitely', 'watch', 'part', '2', 'change', 'view', 'matrix', 'human', 'people', 'one', 'start', 'war', 'ai', 'bad', 'thing']\n"
     ]
    }
   ],
   "source": [
    "# Lemmatize verbs by specifying pos\n",
    "lemmed = [WordNetLemmatizer().lemmatize(w, pos='v') for w in lemmed]\n",
    "print(lemmed)"
   ]
  },
  {
   "cell_type": "code",
   "execution_count": null,
   "metadata": {},
   "outputs": [],
   "source": []
  }
 ],
 "metadata": {
  "kernelspec": {
   "display_name": "Python 3",
   "language": "python",
   "name": "python3"
  },
  "language_info": {
   "codemirror_mode": {
    "name": "ipython",
    "version": 3
   },
   "file_extension": ".py",
   "mimetype": "text/x-python",
   "name": "python",
   "nbconvert_exporter": "python",
   "pygments_lexer": "ipython3",
   "version": "3.6.3"
  }
 },
 "nbformat": 4,
 "nbformat_minor": 2
}
